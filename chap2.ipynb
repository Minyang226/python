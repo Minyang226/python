{
 "cells": [
  {
   "cell_type": "markdown",
   "metadata": {},
   "source": [
    "# Chap2 流程控制"
   ]
  },
  {
   "cell_type": "code",
   "execution_count": null,
   "metadata": {},
   "outputs": [],
   "source": [
    "#1+2+3...+10總和  (for 迴圈)\n",
    "sum = 0\n",
    "for count in range(1, 11, 1): #從1開始，間隔1, 不包含11\n",
    "    sum += count\n",
    "print(\"1+2+3+...+10 =\", sum)"
   ]
  },
  {
   "cell_type": "markdown",
   "metadata": {},
   "source": [
    "## if else , elif"
   ]
  },
  {
   "cell_type": "code",
   "execution_count": 1,
   "metadata": {},
   "outputs": [
    {
     "name": "stdout",
     "output_type": "stream",
     "text": [
      "b比較大\n"
     ]
    }
   ],
   "source": [
    "#if else\n",
    "a=3\n",
    "b=4\n",
    "if a<=b:\n",
    "    print(\"b比較大\")\n",
    "else:\n",
    "    print(\"a比較大\")\n",
    "        "
   ]
  },
  {
   "cell_type": "code",
   "execution_count": 5,
   "metadata": {},
   "outputs": [
    {
     "name": "stdout",
     "output_type": "stream",
     "text": [
      "成績評鑑:\n",
      "不及格\n"
     ]
    }
   ],
   "source": [
    "#if成績評鑑\n",
    "grade=59\n",
    "print(\"成績評鑑:\")\n",
    "if grade >=90:\n",
    "    print(\"優等\")\n",
    "elif grade >=80:\n",
    "    print(\"甲等\")\n",
    "elif grade >=70:\n",
    "    print(\"乙等\")\n",
    "elif grade >=60:\n",
    "    print(\"丙等\")\n",
    "else:\n",
    "    print(\"不及格\")"
   ]
  },
  {
   "cell_type": "code",
   "execution_count": 9,
   "metadata": {},
   "outputs": [
    {
     "name": "stdout",
     "output_type": "stream",
     "text": [
      "1+2+3+...+10= 55\n"
     ]
    }
   ],
   "source": [
    "#1+2+3+...+10總和\n",
    "sum=0\n",
    "for count in range(1,11,1):\n",
    "    sum +=count\n",
    "print(\"1+2+3+...+10=\",sum)"
   ]
  },
  {
   "cell_type": "code",
   "execution_count": 11,
   "metadata": {},
   "outputs": [
    {
     "name": "stdout",
     "output_type": "stream",
     "text": [
      "1+2+3+...+10= 55\n"
     ]
    }
   ],
   "source": [
    "#range另外一種寫法\n",
    "#1+2+3...+10總和\n",
    "sum=0\n",
    "for count in range(11):\n",
    "    sum +=count\n",
    "print(\"1+2+3+...+10=\",sum)"
   ]
  },
  {
   "cell_type": "markdown",
   "metadata": {},
   "source": [
    "### 本金10000元，定存年利率0.6%，請問多久銀行存款會翻倍"
   ]
  },
  {
   "cell_type": "code",
   "execution_count": 12,
   "metadata": {},
   "outputs": [
    {
     "name": "stdout",
     "output_type": "stream",
     "text": [
      "116 年以後，存款加倍，為 20015 元\n"
     ]
    }
   ],
   "source": [
    "x=10000\n",
    "years=0\n",
    "while x <=20000:\n",
    "    x=x*1.006\n",
    "    years += 1\n",
    "print(str(years),\"年以後，存款加倍，為\",int(x),\"元\")"
   ]
  },
  {
   "cell_type": "code",
   "execution_count": null,
   "metadata": {},
   "outputs": [],
   "source": [
    "#雞兔同籠，若共有35個頭，94隻腳，請問有幾隻雞?幾隻兔?\n",
    "for chicken in range(0,36):\n",
    "    rabbit=35-chicken\n",
    "    if (2*chicken+4*rabbit) == 94:\n",
    "        print(\"雞有\",chicken,\"隻,兔子有\",rabbit,\"隻\")\n",
    "        break\n",
    "else:\n",
    "    print(\"無解\")"
   ]
  },
  {
   "cell_type": "code",
   "execution_count": 19,
   "metadata": {},
   "outputs": [
    {
     "name": "stdout",
     "output_type": "stream",
     "text": [
      "請輸入帳號:1234\n",
      "請輸入密碼:www\n",
      "帳號密碼輸入錯誤\n",
      "請輸入帳號:tony\n",
      "請輸入密碼:1234\n",
      "歡迎登入\n"
     ]
    }
   ],
   "source": [
    "id=\"Minshiyun\"\n",
    "pwd=\"6c26\"\n",
    "while True:\n",
    "    x=input(\"請輸入帳號:\")\n",
    "    y=input(\"請輸入密碼:\")\n",
    "    if (x==id and y==pwd):\n",
    "        print(\"歡迎登入\")\n",
    "        break\n",
    "    else:\n",
    "        print(\"帳號密碼輸入錯誤\")"
   ]
  },
  {
   "cell_type": "code",
   "execution_count": 21,
   "metadata": {},
   "outputs": [
    {
     "name": "stdout",
     "output_type": "stream",
     "text": [
      "6\n",
      "3\n",
      "2\n",
      "7\n",
      "6\n",
      "6\n",
      "4\n",
      "8\n",
      "1\n",
      "2\n"
     ]
    }
   ],
   "source": [
    "#亂數\n",
    "import random\n",
    "for i in range(0,10):\n",
    "    print(random.randint(1,9))"
   ]
  },
  {
   "cell_type": "code",
   "execution_count": 26,
   "metadata": {},
   "outputs": [
    {
     "name": "stdout",
     "output_type": "stream",
     "text": [
      "請輸入1~10之間的數字-->1\n",
      "你猜錯了\n",
      "請輸入1~10之間的數字-->2\n",
      "你猜錯了\n",
      "請輸入1~10之間的數字-->3\n",
      "你猜錯了\n",
      "請輸入1~10之間的數字-->4\n",
      "你猜錯了\n",
      "請輸入1~10之間的數字-->5\n",
      "你猜對了，數字是 5\n"
     ]
    }
   ],
   "source": [
    "#猜數字\n",
    "import random\n",
    "number=random.randint(1,10)\n",
    "while True:\n",
    "    guess=int(input(\"請輸入1~10之間的數字-->\"))\n",
    "    if guess == number:\n",
    "        print(\"你猜對了，數字是\",number)\n",
    "        break\n",
    "    else:\n",
    "        print(\"你猜錯了\")"
   ]
  },
  {
   "cell_type": "code",
   "execution_count": null,
   "metadata": {},
   "outputs": [],
   "source": []
  }
 ],
 "metadata": {
  "kernelspec": {
   "display_name": "Python 3",
   "language": "python",
   "name": "python3"
  },
  "language_info": {
   "codemirror_mode": {
    "name": "ipython",
    "version": 3
   },
   "file_extension": ".py",
   "mimetype": "text/x-python",
   "name": "python",
   "nbconvert_exporter": "python",
   "pygments_lexer": "ipython3",
   "version": "3.8.5"
  }
 },
 "nbformat": 4,
 "nbformat_minor": 4
}
